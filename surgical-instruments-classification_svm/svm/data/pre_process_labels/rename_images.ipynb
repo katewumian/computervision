{
 "cells": [
  {
   "cell_type": "code",
   "execution_count": 1,
   "metadata": {},
   "outputs": [],
   "source": [
    "import os\n",
    "folder_path = 'test/scissors2'\n",
    "file_list = os.listdir(folder_path)\n",
    "# 切换到当前文件夹路径下\n",
    "os.chdir(folder_path)\n",
    "i = 425\n",
    "for old_name in file_list:\n",
    "    new_name = \"\"\n",
    "    if len(str(i)) == 1:\n",
    "        new_name = \"img_\" + \"00\" + str(i)\n",
    "    elif len(str(i)) == 2:\n",
    "        new_name = \"img_\" + \"0\" + str(i)\n",
    "    else:\n",
    "        new_name = \"img_\" + str(i)\n",
    "#     new_name = \"img_\" + str(i)\n",
    "    new_name += \".jpg\"\n",
    "    os.rename(old_name, new_name)\n",
    "    i += 1\n",
    "    pass"
   ]
  }
 ],
 "metadata": {
  "kernelspec": {
   "display_name": "Python 3",
   "language": "python",
   "name": "python3"
  },
  "language_info": {
   "codemirror_mode": {
    "name": "ipython",
    "version": 3
   },
   "file_extension": ".py",
   "mimetype": "text/x-python",
   "name": "python",
   "nbconvert_exporter": "python",
   "pygments_lexer": "ipython3",
   "version": "3.6.3"
  }
 },
 "nbformat": 4,
 "nbformat_minor": 4
}
